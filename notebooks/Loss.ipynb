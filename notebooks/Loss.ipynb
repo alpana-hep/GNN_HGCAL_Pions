{
 "cells": [
  {
   "cell_type": "code",
   "execution_count": 17,
   "id": "average-expression",
   "metadata": {},
   "outputs": [],
   "source": [
    "#import the stuff\n",
    "import pandas as pd #dataframes etc\n",
    "import matplotlib.pyplot as plt #plotting\n",
    "import pickle\n",
    "import numpy as np\n",
    "import os, sys\n",
    "import seaborn as sns\n",
    "training_summary = np.load(\"/eos/user/k/kalpana/SWAN_projects/GNN_Results/FlatEnegrySample_1M/Nosemi/summaries.npz\")\n",
    "training_summary1 = np.load(\"/eos/user/k/kalpana/SWAN_projects/GNN_Results/FlatEnegrySample_1M/Nosemi/26Onwards/summaries.npz\")\n",
    "#training_summary2 = np.load(\"/eos/user/k/kalpana/SWAN_projects/GNN_Results/FlatEnegrySample_1M/Nosemi/52_Onwards/summaries.npz\")\n"
   ]
  },
  {
   "cell_type": "code",
   "execution_count": null,
   "id": "sophisticated-luxembourg",
   "metadata": {},
   "outputs": [],
   "source": []
  },
  {
   "cell_type": "code",
   "execution_count": 18,
   "id": "def5b9dd",
   "metadata": {},
   "outputs": [
    {
     "data": {
      "text/plain": [
       "['epoch',\n",
       " 'acc_loss',\n",
       " 'acc_lr',\n",
       " 'lr',\n",
       " 'train_time',\n",
       " 'train_loss',\n",
       " 'valid_time',\n",
       " 'valid_loss',\n",
       " 'valid_acc']"
      ]
     },
     "execution_count": 18,
     "metadata": {},
     "output_type": "execute_result"
    }
   ],
   "source": [
    "[key for key in training_summary1.keys()]"
   ]
  },
  {
   "cell_type": "code",
   "execution_count": null,
   "id": "accredited-positive",
   "metadata": {},
   "outputs": [],
   "source": []
  },
  {
   "cell_type": "code",
   "execution_count": null,
   "id": "congressional-palmer",
   "metadata": {},
   "outputs": [],
   "source": []
  },
  {
   "cell_type": "code",
   "execution_count": null,
   "id": "logical-correspondence",
   "metadata": {},
   "outputs": [],
   "source": []
  },
  {
   "cell_type": "code",
   "execution_count": null,
   "id": "social-driving",
   "metadata": {},
   "outputs": [],
   "source": []
  },
  {
   "cell_type": "code",
   "execution_count": null,
   "id": "funky-found",
   "metadata": {},
   "outputs": [],
   "source": []
  },
  {
   "cell_type": "code",
   "execution_count": 19,
   "id": "emotional-diagram",
   "metadata": {},
   "outputs": [
    {
     "name": "stdout",
     "output_type": "stream",
     "text": [
      "<_io.BufferedReader name='/eos/user/k/kalpana/SWAN_projects/GNN_Results/FlatEnegrySample_1M/Nosemi/52_Onwards/pred_tb.pickle'>\n"
     ]
    }
   ],
   "source": [
    "import pickle\n",
    "import numpy as np\n",
    "\n",
    "\n",
    "\n",
    "pred_v2 =\"/eos/user/k/kalpana/SWAN_projects/GNN_Results/FlatEnegrySample_1M/Nosemi/52_Onwards/pred_tb.pickle\"\n",
    "predPickle = open(pred_v2, \"rb\")\n",
    "print(predPickle)\n",
    "preds_trueEn = np.asarray(pickle.load(predPickle))\n",
    "#print(preds[0])"
   ]
  },
  {
   "cell_type": "code",
   "execution_count": null,
   "id": "decreased-phase",
   "metadata": {},
   "outputs": [],
   "source": [
    "\n"
   ]
  },
  {
   "cell_type": "code",
   "execution_count": 20,
   "id": "fossil-index",
   "metadata": {},
   "outputs": [
    {
     "name": "stdout",
     "output_type": "stream",
     "text": [
      "349.99966\n",
      "362.2806396484375\n",
      "9.999456\n",
      "10.851597785949707\n",
      "836658\n",
      "836658\n"
     ]
    },
    {
     "data": {
      "text/plain": [
       "(array([[7.4550e+04, 7.1320e+03, 3.4300e+02, 1.4200e+02, 7.9000e+01,\n",
       "         3.7000e+01, 1.4000e+01, 1.0000e+01, 2.0000e+00, 2.0000e+00],\n",
       "        [4.5510e+03, 6.9797e+04, 9.9770e+03, 5.3500e+02, 2.4900e+02,\n",
       "         1.4400e+02, 9.7000e+01, 5.0000e+01, 3.5000e+01, 2.8000e+01],\n",
       "        [2.4000e+01, 5.7260e+03, 6.6514e+04, 1.3149e+04, 6.3200e+02,\n",
       "         3.3100e+02, 1.8800e+02, 1.0100e+02, 6.1000e+01, 3.1000e+01],\n",
       "        [0.0000e+00, 1.1200e+02, 6.3810e+03, 6.4216e+04, 1.6845e+04,\n",
       "         8.8800e+02, 4.1700e+02, 2.5400e+02, 1.4000e+02, 8.6000e+01],\n",
       "        [0.0000e+00, 1.0000e+00, 1.6400e+02, 6.3500e+03, 6.0546e+04,\n",
       "         2.0759e+04, 1.1940e+03, 4.9400e+02, 2.8500e+02, 1.5700e+02],\n",
       "        [0.0000e+00, 0.0000e+00, 4.0000e+00, 1.9600e+02, 5.9980e+03,\n",
       "         5.6635e+04, 2.3578e+04, 1.5580e+03, 6.7200e+02, 3.9100e+02],\n",
       "        [0.0000e+00, 0.0000e+00, 0.0000e+00, 7.0000e+00, 1.5500e+02,\n",
       "         5.9780e+03, 5.3415e+04, 2.7059e+04, 2.1010e+03, 8.4400e+02],\n",
       "        [0.0000e+00, 0.0000e+00, 0.0000e+00, 0.0000e+00, 6.0000e+00,\n",
       "         1.5000e+02, 5.6760e+03, 5.0144e+04, 3.1488e+04, 3.1610e+03],\n",
       "        [0.0000e+00, 0.0000e+00, 0.0000e+00, 0.0000e+00, 0.0000e+00,\n",
       "         2.0000e+00, 6.1000e+01, 4.7340e+03, 4.8633e+04, 5.4203e+04],\n",
       "        [0.0000e+00, 0.0000e+00, 0.0000e+00, 0.0000e+00, 0.0000e+00,\n",
       "         0.0000e+00, 0.0000e+00, 2.0000e+00, 9.5700e+02, 2.5030e+04]]),\n",
       " array([ 10.85159779,  45.99450197,  81.13740616, 116.28031034,\n",
       "        151.42321453, 186.56611872, 221.7090229 , 256.85192709,\n",
       "        291.99483128, 327.13773546, 362.28063965]),\n",
       " array([  9.99945641,  43.9994772 ,  77.99949799, 111.99951878,\n",
       "        145.99953957, 179.99956036, 213.99958115, 247.99960194,\n",
       "        281.99962273, 315.99964352, 349.99966431]),\n",
       " <matplotlib.collections.QuadMesh at 0x7ff82607b970>)"
      ]
     },
     "execution_count": 20,
     "metadata": {},
     "output_type": "execute_result"
    },
    {
     "data": {
      "image/png": "[encoded data removed]",
      "text/plain": [
       "<Figure size 432x288 with 1 Axes>"
      ]
     },
     "metadata": {
      "needs_background": "light"
     },
     "output_type": "display_data"
    }
   ],
   "source": [
    "import awkward\n",
    "trueEn= \"/eos/user/k/kalpana/SWAN_projects/GNN_Results/FlatEnegrySample_1M/Nosemi/trueE.pickle\"\n",
    "trueEnPickle = open(trueEn,\"rb\")\n",
    "trueEn_pkl = np.asarray(pickle.load(trueEnPickle))\n",
    "#fig, ax = plt.subplots(figsize=(15,10))\n",
    "#ax.hist(preds_trueEn, bins =1000)\n",
    "#ax.set_xlabel('Predicted Energy')\n",
    "#fig.show()\n",
    "#print(trueEn_pkl[0])\n",
    "print(np.max(trueEn_pkl))\n",
    "print(np.max(preds_trueEn))\n",
    "print(np.min(trueEn_pkl))\n",
    "print(np.min(preds_trueEn))\n",
    "print(len(preds_trueEn))\n",
    "print(len(trueEn_pkl))\n",
    "plt.hist2d(preds_trueEn, trueEn_pkl)"
   ]
  },
  {
   "cell_type": "code",
   "execution_count": 21,
   "id": "american-howard",
   "metadata": {},
   "outputs": [
    {
     "name": "stdout",
     "output_type": "stream",
     "text": [
      "167332\n",
      "669326\n",
      "248.78817749023438\n",
      "251.4082\n",
      "190.4743194580078\n",
      "183.39333\n"
     ]
    }
   ],
   "source": [
    "valid_idx_file=\"/eos/user/k/kalpana/SWAN_projects/GNN_Results/FlatEnegrySample_1M/Nosemi/all_valididx.pickle\"\n",
    "train_idx_file=\"/eos/user/k/kalpana/SWAN_projects/GNN_Results/FlatEnegrySample_1M/Nosemi/all_trainidx.pickle\"\n",
    "\n",
    "valid_idx_f = open(valid_idx_file,\"rb\")\n",
    "valid_idx = np.asarray(pickle.load(valid_idx_f))\n",
    "print(len(valid_idx))\n",
    "\n",
    "train_idx_f = open(train_idx_file,\"rb\")\n",
    "train_idx = np.asarray(pickle.load(train_idx_f))\n",
    "print(len(train_idx))\n",
    "print(preds_trueEn[train_idx[1]])\n",
    "print(trueEn_pkl[train_idx[1]])\n",
    "print(preds_trueEn[valid_idx[1]])\n",
    "print(trueEn_pkl[valid_idx[1]])\n",
    "valid_trueEn_All=[]\n",
    "valid_predEn_All=[]\n",
    "##temp lists\n",
    "valid_trueEn_20=[]\n",
    "valid_predEn_20=[]\n",
    "valid_trueEn_50=[]\n",
    "valid_predEn_50=[]\n",
    "valid_trueEn_80=[]\n",
    "valid_predEn_80=[]\n",
    "valid_trueEn_100=[]\n",
    "valid_predEn_100=[]\n",
    "valid_trueEn_120=[]\n",
    "valid_predEn_120=[]\n",
    "valid_trueEn_200=[]\n",
    "valid_predEn_200=[]\n",
    "valid_trueEn_250=[]\n",
    "valid_predEn_250=[]\n",
    "valid_trueEn_300=[]\n",
    "valid_predEn_300=[]\n",
    "\n",
    "train_trueEn_All=[]\n",
    "train_predEn_All=[]\n",
    "for i in range(len(valid_idx)):\n",
    "    valid_trueEn=(trueEn_pkl[valid_idx[i]])\n",
    "    valid_predEn=(preds_trueEn[valid_idx[i]])\n",
    "    if(valid_trueEn>=18 and valid_trueEn<=22):\n",
    "        valid_trueEn_20.append(valid_trueEn)\n",
    "        valid_predEn_20.append(valid_predEn)\n",
    "    elif(valid_trueEn>=48 and valid_trueEn<=52):\n",
    "        valid_trueEn_50.append(valid_trueEn)\n",
    "        valid_predEn_50.append(valid_predEn)\n",
    "    elif(valid_trueEn>=78 and valid_trueEn<=82):\n",
    "        valid_trueEn_80.append(valid_trueEn)\n",
    "        valid_predEn_80.append(valid_predEn)\n",
    "    elif(valid_trueEn>=98 and valid_trueEn<=102):\n",
    "        valid_trueEn_100.append(valid_trueEn)\n",
    "        valid_predEn_100.append(valid_predEn)\n",
    "    elif(valid_trueEn>=118 and valid_trueEn<=122):\n",
    "        valid_trueEn_120.append(valid_trueEn)\n",
    "        valid_predEn_120.append(valid_predEn)\n",
    "    elif(valid_trueEn>=198 and valid_trueEn<=202):\n",
    "        valid_trueEn_200.append(valid_trueEn)\n",
    "        valid_predEn_200.append(valid_predEn)\n",
    "    elif(valid_trueEn>=248 and valid_trueEn<=252):\n",
    "        valid_trueEn_250.append(valid_trueEn)\n",
    "        valid_predEn_250.append(valid_predEn)\n",
    "    elif(valid_trueEn>=298 and valid_trueEn<=302):\n",
    "        valid_trueEn_300.append(valid_trueEn)\n",
    "        valid_predEn_300.append(valid_predEn)\n",
    "valid_trueEn_All.append(valid_trueEn_20)\n",
    "valid_trueEn_All.append(valid_trueEn_50)\n",
    "valid_trueEn_All.append(valid_trueEn_80)\n",
    "valid_trueEn_All.append(valid_trueEn_100)\n",
    "valid_trueEn_All.append(valid_trueEn_120)\n",
    "valid_trueEn_All.append(valid_trueEn_200)\n",
    "valid_trueEn_All.append(valid_trueEn_250)\n",
    "valid_trueEn_All.append(valid_trueEn_300)\n",
    "\n",
    "valid_predEn_All.append(valid_predEn_20)\n",
    "valid_predEn_All.append(valid_predEn_50)\n",
    "valid_predEn_All.append(valid_predEn_80)\n",
    "valid_predEn_All.append(valid_predEn_100)\n",
    "valid_predEn_All.append(valid_predEn_120)\n",
    "valid_predEn_All.append(valid_predEn_200)\n",
    "valid_predEn_All.append(valid_predEn_250)\n",
    "valid_predEn_All.append(valid_predEn_300)\n",
    "  \n",
    "train_trueEn_20=[]\n",
    "train_predEn_20=[]\n",
    "train_trueEn_50=[]\n",
    "train_predEn_50=[]\n",
    "train_trueEn_80=[]\n",
    "train_predEn_80=[]\n",
    "train_trueEn_100=[]\n",
    "train_predEn_100=[]\n",
    "train_trueEn_120=[]\n",
    "train_predEn_120=[]\n",
    "train_trueEn_200=[]\n",
    "train_predEn_200=[]\n",
    "train_trueEn_250=[]\n",
    "train_predEn_250=[]\n",
    "train_trueEn_300=[]\n",
    "train_predEn_300=[]\n",
    "\n",
    "for i in range(len(train_idx)):\n",
    "    train_trueEn=(trueEn_pkl[train_idx[i]])\n",
    "    train_predEn=(preds_trueEn[train_idx[i]])\n",
    "    if(train_trueEn>=18 and train_trueEn<=22):\n",
    "        train_trueEn_20.append(train_trueEn)\n",
    "        train_predEn_20.append(train_predEn)\n",
    "    elif(train_trueEn>=48 and train_trueEn<=52):\n",
    "        train_trueEn_50.append(train_trueEn)\n",
    "        train_predEn_50.append(train_predEn)\n",
    "    elif(train_trueEn>=78 and train_trueEn<=82):\n",
    "        train_trueEn_80.append(train_trueEn)\n",
    "        train_predEn_80.append(train_predEn)\n",
    "    elif(train_trueEn>=98 and train_trueEn<=102):\n",
    "        train_trueEn_100.append(train_trueEn)\n",
    "        train_predEn_100.append(train_predEn)\n",
    "    elif(train_trueEn>=118 and train_trueEn<=122):\n",
    "        train_trueEn_120.append(train_trueEn)\n",
    "        train_predEn_120.append(train_predEn)\n",
    "    elif(train_trueEn>=198 and train_trueEn<=202):\n",
    "        train_trueEn_200.append(train_trueEn)\n",
    "        train_predEn_200.append(train_predEn)\n",
    "    elif(train_trueEn>=248 and train_trueEn<=252):\n",
    "        train_trueEn_250.append(train_trueEn)\n",
    "        train_predEn_250.append(train_predEn)\n",
    "    elif(train_trueEn>=298 and train_trueEn<=302):\n",
    "        train_trueEn_300.append(train_trueEn)\n",
    "        train_predEn_300.append(train_predEn)\n",
    "train_trueEn_All.append(train_trueEn_20)\n",
    "train_trueEn_All.append(train_trueEn_50)\n",
    "train_trueEn_All.append(train_trueEn_80)\n",
    "train_trueEn_All.append(train_trueEn_100)\n",
    "train_trueEn_All.append(train_trueEn_120)\n",
    "train_trueEn_All.append(train_trueEn_200)\n",
    "train_trueEn_All.append(train_trueEn_250)\n",
    "train_trueEn_All.append(train_trueEn_300)\n",
    "\n",
    "train_predEn_All.append(train_predEn_20)\n",
    "train_predEn_All.append(train_predEn_50)\n",
    "train_predEn_All.append(train_predEn_80)\n",
    "train_predEn_All.append(train_predEn_100)\n",
    "train_predEn_All.append(train_predEn_120)\n",
    "train_predEn_All.append(train_predEn_200)\n",
    "train_predEn_All.append(train_predEn_250)\n",
    "train_predEn_All.append(train_predEn_300)\n",
    "    \n",
    "    \n",
    "np_valid_trueEn=np.array(valid_trueEn_All)\n",
    "np_valid_predEn=np.array(valid_predEn_All)\n",
    "np_train_trueEn=np.array(train_trueEn_All)\n",
    "np_train_predEn=np.array(train_predEn_All)"
   ]
  },
  {
   "cell_type": "code",
   "execution_count": 22,
   "id": "arctic-horizontal",
   "metadata": {},
   "outputs": [
    {
     "name": "stdout",
     "output_type": "stream",
     "text": [
      "<_io.BufferedReader name='/eos/user/k/kalpana/SWAN_projects/GNN_Results/FlatEnegrySample_1M/Nosemi/52_Onwards/tb_data/pred_tb.pickle'>\n",
      "80.0\n"
     ]
    }
   ],
   "source": [
    "## reading tb data files\n",
    "tb_valid_idx_file=\"/eos/user/k/kalpana/SWAN_projects/GNN_Results/FlatEnegrySample_1M/TB_data/all_valididx.pickle\"\n",
    "tb_train_idx_file=\"/eos/user/k/kalpana/SWAN_projects/GNN_Results/FlatEnegrySample_1M/TB_data/all_trainidx.pickle\"\n",
    "tb_pred_v2 =\"/eos/user/k/kalpana/SWAN_projects/GNN_Results/FlatEnegrySample_1M/Nosemi/52_Onwards/tb_data/pred_tb.pickle\"\n",
    "tb_predPickle = open(tb_pred_v2, \"rb\")\n",
    "print(tb_predPickle)\n",
    "tb_preds_trueEn = np.asarray(pickle.load(tb_predPickle))\n",
    "\n",
    "tb_trueEn= \"/eos/user/k/kalpana/SWAN_projects/GNN_Results/FlatEnegrySample_1M/TB_data/trueE.pickle\"\n",
    "tb_trueEnPickle = open(tb_trueEn,\"rb\")\n",
    "tb_trueEn_pkl = np.asarray(pickle.load(tb_trueEnPickle))\n",
    "print(tb_trueEn_pkl[200000])"
   ]
  },
  {
   "cell_type": "code",
   "execution_count": null,
   "id": "2eaf8d75",
   "metadata": {},
   "outputs": [],
   "source": []
  },
  {
   "cell_type": "code",
   "execution_count": 23,
   "id": "vulnerable-growth",
   "metadata": {},
   "outputs": [
    {
     "name": "stdout",
     "output_type": "stream",
     "text": [
      "106696\n",
      "426783\n",
      "53164\n"
     ]
    }
   ],
   "source": [
    "tb_valid_idx_f = open(tb_valid_idx_file,\"rb\")\n",
    "tb_valid_idx = np.asarray(pickle.load(tb_valid_idx_f))\n",
    "print(len(tb_valid_idx))\n",
    "\n",
    "tb_train_idx_f = open(tb_train_idx_file,\"rb\")\n",
    "tb_train_idx = np.asarray(pickle.load(tb_train_idx_f))\n",
    "print(len(tb_train_idx))\n",
    "tb_trueEn_All=[]\n",
    "tb_predEn_All=[]\n",
    "##temp lists\n",
    "tb_trueEn_20=[]\n",
    "tb_predEn_20=[]\n",
    "tb_trueEn_50=[]\n",
    "tb_predEn_50=[]\n",
    "tb_trueEn_80=[]\n",
    "tb_predEn_80=[]\n",
    "tb_trueEn_100=[]\n",
    "tb_predEn_100=[]\n",
    "tb_trueEn_120=[]\n",
    "tb_predEn_120=[]\n",
    "tb_trueEn_200=[]\n",
    "tb_predEn_200=[]\n",
    "tb_trueEn_250=[]\n",
    "tb_predEn_250=[]\n",
    "tb_trueEn_300=[]\n",
    "tb_predEn_300=[]\n",
    "\n",
    "for i in range(len(tb_valid_idx)):\n",
    "    tb_trueEn=(tb_trueEn_pkl[tb_valid_idx[i]])\n",
    "    tb_predEn=(tb_preds_trueEn[tb_valid_idx[i]])\n",
    "    if(tb_trueEn==20):\n",
    "        tb_trueEn_20.append(tb_trueEn)\n",
    "        tb_predEn_20.append(tb_predEn)\n",
    "        #print(tb_trueEn)\n",
    "    elif(tb_trueEn==50):\n",
    "        tb_trueEn_50.append(tb_trueEn)\n",
    "        tb_predEn_50.append(tb_predEn)\n",
    "    elif(tb_trueEn==80):\n",
    "        tb_trueEn_80.append(tb_trueEn)\n",
    "        tb_predEn_80.append(tb_predEn)\n",
    "    elif(tb_trueEn==100):\n",
    "        tb_trueEn_100.append(tb_trueEn)\n",
    "        tb_predEn_100.append(tb_predEn)\n",
    "    elif(tb_trueEn==120):\n",
    "        tb_trueEn_120.append(tb_trueEn)\n",
    "        tb_predEn_120.append(tb_predEn)\n",
    "    elif(tb_trueEn==200):\n",
    "        tb_trueEn_200.append(tb_trueEn)\n",
    "        tb_predEn_200.append(tb_predEn)\n",
    "    elif(tb_trueEn==250):\n",
    "        tb_trueEn_250.append(tb_trueEn)\n",
    "        tb_predEn_250.append(tb_predEn)\n",
    "    elif(tb_trueEn==300):\n",
    "        tb_trueEn_300.append(tb_trueEn)\n",
    "        tb_predEn_300.append(tb_predEn)\n",
    "for i in range(len(tb_train_idx)):\n",
    "    tb_trueEn=(tb_trueEn_pkl[tb_train_idx[i]])\n",
    "    tb_predEn=(tb_preds_trueEn[tb_train_idx[i]])\n",
    "    if(tb_trueEn==20.0):\n",
    "        tb_trueEn_20.append(tb_trueEn)\n",
    "        tb_predEn_20.append(tb_predEn)\n",
    "    elif(tb_trueEn==50):\n",
    "        tb_trueEn_50.append(tb_trueEn)\n",
    "        tb_predEn_50.append(tb_predEn)\n",
    "    elif(tb_trueEn==80):\n",
    "        tb_trueEn_80.append(tb_trueEn)\n",
    "        tb_predEn_80.append(tb_predEn)\n",
    "    elif(tb_trueEn==100):\n",
    "        tb_trueEn_100.append(tb_trueEn)\n",
    "        tb_predEn_100.append(tb_predEn)\n",
    "    elif(tb_trueEn==120):\n",
    "        tb_trueEn_120.append(tb_trueEn)\n",
    "        tb_predEn_120.append(tb_predEn)\n",
    "    elif(tb_trueEn==200):\n",
    "        tb_trueEn_200.append(tb_trueEn)\n",
    "        tb_predEn_200.append(tb_predEn)\n",
    "    elif(tb_trueEn==250):\n",
    "        tb_trueEn_250.append(tb_trueEn)\n",
    "        tb_predEn_250.append(tb_predEn)\n",
    "    elif(tb_trueEn==300):\n",
    "        tb_trueEn_300.append(tb_trueEn)\n",
    "        tb_predEn_300.append(tb_predEn)\n",
    "print(len(tb_predEn_20))\n",
    "tb_trueEn_All.append(tb_trueEn_20)\n",
    "tb_trueEn_All.append(tb_trueEn_50)\n",
    "tb_trueEn_All.append(tb_trueEn_80)\n",
    "tb_trueEn_All.append(tb_trueEn_100)\n",
    "tb_trueEn_All.append(tb_trueEn_120)\n",
    "tb_trueEn_All.append(tb_trueEn_200)\n",
    "tb_trueEn_All.append(tb_trueEn_250)\n",
    "tb_trueEn_All.append(tb_trueEn_300)\n",
    "\n",
    "tb_predEn_All.append(tb_predEn_20)\n",
    "tb_predEn_All.append(tb_predEn_50)\n",
    "tb_predEn_All.append(tb_predEn_80)\n",
    "tb_predEn_All.append(tb_predEn_100)\n",
    "tb_predEn_All.append(tb_predEn_120)\n",
    "tb_predEn_All.append(tb_predEn_200)\n",
    "tb_predEn_All.append(tb_predEn_250)\n",
    "tb_predEn_All.append(tb_predEn_300)\n",
    "\n",
    "\n"
   ]
  },
  {
   "cell_type": "code",
   "execution_count": 24,
   "id": "deadly-astrology",
   "metadata": {},
   "outputs": [],
   "source": [
    "import ROOT\n",
    "fout= ROOT.TFile(\"hist_DRn_noSemi_1Mstats_75epochs_withoutscalingMC.root\", 'RECREATE')\n"
   ]
  },
  {
   "cell_type": "code",
   "execution_count": 25,
   "id": "understood-input",
   "metadata": {},
   "outputs": [],
   "source": [
    "import ROOT\n",
    "hist_pred_Valid=[]\n",
    "hist_true_Valid=[]\n",
    "hist_pred_Train=[]\n",
    "hist_true_Train=[]\n",
    "hist_predTrue_Valid=[]\n",
    "hist_norm_predTrue_Valid=[]\n",
    "hist_predTrue_Train=[]\n",
    "hist_norm_predTrue_Train=[]\n",
    "hist_pred_Tbdata=[]\n",
    "hist_true_Tbdata=[]\n",
    "hist_predTrue_Tbdata=[]\n",
    "hist_norm_predTrue_Tbdata=[]\n",
    "\n",
    "hist_pred_QGSP=[]\n",
    "hist_true_QGSP=[]\n",
    "hist_pred_FTFP=[]\n",
    "hist_true_FTFP=[]\n",
    "hist_predTrue_QGSP=[]\n",
    "hist_norm_predTrue_QGSP=[]\n",
    "hist_predTrue_FTFP=[]\n",
    "hist_norm_predTrue_FTFP=[]\n",
    "hist_2d= ROOT.TH2F(\"hist\",\"true en vs pred en\",300,0,400,300,0,400)\n",
    "hist_2d_tb= ROOT.TH2F(\"hist_tb\",\"true en vs pred en\",300,0,400,300,0,400)\n",
    "Energy=[20,50,80,100,120,200,250,300]\n",
    "M=8 # number of histograms\n",
    "for i_hist in range(M):\n",
    "    xhigh_pred= 3.0*Energy[i_hist]\n",
    "    xhigh_true= 2.0*Energy[i_hist]\n",
    "    xhigh_diff= 20\n",
    "    xlow_diff= -20\n",
    "    xhigh_norm= 5\n",
    "    xlow_norm= -5\n",
    "    name1='TrueEn_%i' %(Energy[i_hist])#,u[i_hist],v[i_hist],typee[i_hist])\n",
    "    hist_pred_Valid.append(ROOT.TH1F('Valid_Predi_%s' % name1, \"\"\":\"Predicted energy in GeV\":\"\"\", 500, 0, xhigh_pred))\n",
    "    hist_true_Valid.append(ROOT.TH1F('Valid_trueEn_%s' % name1, \"\"\":\"true Beam energy in GeV\":\"\"\", 500, 0,xhigh_true ))\n",
    "    hist_pred_Train.append(ROOT.TH1F('Train_Predi_%s' % name1, \"\"\":\"Predicted energy in GeV\":\"\"\", 500, 0, xhigh_pred))\n",
    "    hist_true_Train.append(ROOT.TH1F('Train_trueEn_%s' % name1, \"\"\":\"true Beam energy in GeV\":\"\"\", 500, 0, xhigh_true))\n",
    "    hist_predTrue_Valid.append(ROOT.TH1F('Valid_Diff_Predi_%s' % name1, \"\"\":\"Predicted -true in GeV\":\"\"\", 500, xlow_diff, xhigh_diff))\n",
    "    hist_norm_predTrue_Valid.append(ROOT.TH1F('Valid_norm_pred_trueEn_%s' % name1, \"\"\":\"(pred-true)/true in GeV\":\"\"\", 500, xlow_norm, xhigh_norm))\n",
    "    hist_predTrue_Train.append(ROOT.TH1F('Train_Diff_Predi_%s' % name1, \"\"\":\"Predicted -true in GeV\":\"\"\", 500, xlow_diff, xhigh_diff))\n",
    "    hist_norm_predTrue_Train.append(ROOT.TH1F('Train_norm_pred_trueEn_%s' % name1, \"\"\":\"(pred-true)/true in GeV\":\"\"\", 500, xlow_norm, xhigh_norm))\n",
    "    hist_pred_Tbdata.append(ROOT.TH1F('Tbdata_Predi_%s' % name1, \"\"\":\"Predicted energy in GeV\":\"\"\", 500, 0,xhigh_pred ))\n",
    "    hist_true_Tbdata.append(ROOT.TH1F('Tbdata_trueEn_%s' % name1, \"\"\":\"true Beam energy in GeV\":\"\"\", 500, 0, xhigh_true))\n",
    "    hist_predTrue_Tbdata.append(ROOT.TH1F('Tbdata_Diff_Predi_%s' % name1, \"\"\":\"Predicted -true in GeV\":\"\"\", 500, xlow_diff, xhigh_diff))\n",
    "    hist_norm_predTrue_Tbdata.append(ROOT.TH1F('Tbdata_norm_pred_trueEn_%s' % name1, \"\"\":\"(pred-true)/true in GeV\":\"\"\", 500,xlow_norm, xhigh_norm ))\n",
    "    hist_pred_QGSP.append(ROOT.TH1F('QGSP_Predi_%s' % name1, \"\"\":\"Predicted energy in GeV\":\"\"\", 500, 0, xhigh_pred))\t\n",
    "    hist_true_QGSP.append(ROOT.TH1F('QGSP_trueEn_%s' % name1, \"\"\":\"true Beam energy in GeV\":\"\"\", 500, 0,xhigh_true ))\n",
    "    hist_pred_FTFP.append(ROOT.TH1F('FTFP_Predi_%s' % name1, \"\"\":\"Predicted energy in GeV\":\"\"\", 500, 0, xhigh_pred))\n",
    "    hist_true_FTFP.append(ROOT.TH1F('FTFP_trueEn_%s' % name1, \"\"\":\"true Beam energy in GeV\":\"\"\", 500, 0, xhigh_true))\n",
    "    hist_predTrue_QGSP.append(ROOT.TH1F('QGSP_Diff_Predi_%s' % name1, \"\"\":\"Predicted -true in GeV\":\"\"\", 500, xlow_diff, xhigh_diff))\n",
    "    hist_norm_predTrue_QGSP.append(ROOT.TH1F('QGSP_norm_pred_trueEn_%s' % name1, \"\"\":\"(pred-true)/true in GeV\":\"\"\", 500, xlow_norm, xhigh_norm))\n",
    "    hist_predTrue_FTFP.append(ROOT.TH1F('FTFP_Diff_Predi_%s' % name1, \"\"\":\"Predicted -true in GeV\":\"\"\", 500, xlow_diff, xhigh_diff))\n",
    "    hist_norm_predTrue_FTFP.append(ROOT.TH1F('FTFP_norm_pred_trueEn_%s' % name1, \"\"\":\"(pred-true)/true in GeV\":\"\"\", 500, xlow_norm, xhigh_norm))"
   ]
  },
  {
   "cell_type": "code",
   "execution_count": 26,
   "id": "immune-policy",
   "metadata": {},
   "outputs": [
    {
     "name": "stdout",
     "output_type": "stream",
     "text": [
      "7376\n",
      "7803\n",
      "7684\n",
      "7862\n",
      "8005\n",
      "7902\n",
      "7891\n",
      "7871\n",
      "53164\n",
      "46172\n",
      "108018\n",
      "77737\n",
      "55951\n",
      "42584\n",
      "69904\n",
      "79949\n"
     ]
    }
   ],
   "source": [
    "for i_en in range(len(trueEn_pkl)):\n",
    "    hist_2d.Fill(trueEn_pkl[i_en],preds_trueEn[i_en])\n",
    "for i_ev in range(len(tb_preds_trueEn)):\n",
    "    hist_2d_tb.Fill(tb_trueEn_pkl[i_ev],tb_preds_trueEn[i_ev])\n",
    "\n",
    "for i_en in range(8):\n",
    "    for i_ev in range(len(valid_predEn_All[i_en])):\n",
    "        diff= valid_trueEn_All[i_en][i_ev] - valid_predEn_All[i_en][i_ev]\n",
    "        norm = diff/valid_trueEn_All[i_en][i_ev]\n",
    "        hist_pred_Valid[i_en].Fill(valid_predEn_All[i_en][i_ev])\n",
    "        hist_true_Valid[i_en].Fill(valid_trueEn_All[i_en][i_ev])\n",
    "        hist_predTrue_Valid[i_en].Fill(diff)\n",
    "        hist_norm_predTrue_Valid[i_en].Fill(norm)\n",
    "        \n",
    "for i_en in range(8):\n",
    "    print(len(train_predEn_All[i_en]))\n",
    "    for i_ev in range(len(train_predEn_All[i_en])):\n",
    "        diff= train_trueEn_All[i_en][i_ev] - train_predEn_All[i_en][i_ev]\n",
    "        norm = diff/train_trueEn_All[i_en][i_ev]\n",
    "        hist_pred_Train[i_en].Fill(train_predEn_All[i_en][i_ev])\n",
    "        hist_true_Train[i_en].Fill(train_trueEn_All[i_en][i_ev])\n",
    "        hist_predTrue_Train[i_en].Fill(diff)\n",
    "        hist_norm_predTrue_Train[i_en].Fill(norm)\n",
    "        \n",
    "for i_en in range(8):\n",
    "    print(len(tb_predEn_All[i_en]))\n",
    "    for i_ev in range(len(tb_predEn_All[i_en])):\n",
    "        \n",
    "        diff= tb_trueEn_All[i_en][i_ev] - tb_predEn_All[i_en][i_ev]\n",
    "        norm = diff/tb_trueEn_All[i_en][i_ev]\n",
    "        hist_pred_Tbdata[i_en].Fill(tb_predEn_All[i_en][i_ev])\n",
    "        hist_true_Tbdata[i_en].Fill(tb_trueEn_All[i_en][i_ev])\n",
    "        hist_predTrue_Tbdata[i_en].Fill(diff)\n",
    "        hist_norm_predTrue_Tbdata[i_en].Fill(norm)\n",
    "        \n",
    "                          "
   ]
  },
  {
   "cell_type": "code",
   "execution_count": 27,
   "id": "d0ed29fd",
   "metadata": {},
   "outputs": [
    {
     "name": "stdout",
     "output_type": "stream",
     "text": [
      "<_io.BufferedReader name='/eos/user/k/kalpana/SWAN_projects/GNN_Results/FlatEnegrySample_1M/Nosemi/52_Onwards/QGSP/pred_tb.pickle'>\n",
      "80.0\n"
     ]
    }
   ],
   "source": [
    "QGSP_pred_v2 =\"/eos/user/k/kalpana/SWAN_projects/GNN_Results/FlatEnegrySample_1M/Nosemi/52_Onwards/QGSP/pred_tb.pickle\"\n",
    "QGSP_predPickle = open(QGSP_pred_v2, \"rb\")\n",
    "print(QGSP_predPickle)\n",
    "QGSP_preds_trueEn = np.asarray(pickle.load(QGSP_predPickle))\n",
    "\n",
    "QGSP_trueEn= \"/eos/user/k/kalpana/SWAN_projects/GNN_Results/FlatEnegrySample_1M/Nosemi/ScalingMC_RechitLevel/QGSP_tb_/beamEn.pickle\"\n",
    "QGSP_trueEnPickle = open(QGSP_trueEn,\"rb\")\n",
    "QGSP_trueEn_pkl = np.asarray(pickle.load(QGSP_trueEnPickle))\n",
    "print(QGSP_trueEn_pkl[200000])\n",
    "Energy=[20,50,80,100,120,200,250,300]\n",
    "for i in range(len(QGSP_trueEn_pkl)):\n",
    "    QGSP_trueEn=(QGSP_trueEn_pkl[i])\n",
    "    QGSP_predEn=(QGSP_preds_trueEn[i])\n",
    "    diff= QGSP_trueEn - QGSP_predEn\n",
    "    norm = diff/QGSP_trueEn\n",
    "    for ibin in range(8):\n",
    "        if(QGSP_trueEn==Energy[ibin]):\n",
    "            hist_pred_QGSP[ibin].Fill(QGSP_predEn)\n",
    "            hist_true_QGSP[ibin].Fill(QGSP_trueEn)\n",
    "            hist_predTrue_QGSP[ibin].Fill(diff)\n",
    "            hist_norm_predTrue_QGSP[ibin].Fill(norm)"
   ]
  },
  {
   "cell_type": "code",
   "execution_count": 28,
   "id": "88a4f455",
   "metadata": {},
   "outputs": [
    {
     "name": "stdout",
     "output_type": "stream",
     "text": [
      "<_io.BufferedReader name='/eos/user/k/kalpana/SWAN_projects/GNN_Results/FlatEnegrySample_1M/Nosemi/52_Onwards/FTFP/pred_tb.pickle'>\n",
      "200.0\n"
     ]
    }
   ],
   "source": [
    "FTFP_pred_v2 =\"/eos/user/k/kalpana/SWAN_projects/GNN_Results/FlatEnegrySample_1M/Nosemi/52_Onwards/FTFP/pred_tb.pickle\"\n",
    "FTFP_predPickle = open(FTFP_pred_v2, \"rb\")\n",
    "print(FTFP_predPickle)\n",
    "FTFP_preds_trueEn = np.asarray(pickle.load(FTFP_predPickle))\n",
    "\n",
    "FTFP_trueEn= \"/eos/user/k/kalpana/SWAN_projects/GNN_Results/FlatEnegrySample_1M/Nosemi/ScalingMC_RechitLevel/FTFP_tb_/beamEn.pickle\"\n",
    "FTFP_trueEnPickle = open(FTFP_trueEn,\"rb\")\n",
    "FTFP_trueEn_pkl = np.asarray(pickle.load(FTFP_trueEnPickle))\n",
    "print(FTFP_trueEn_pkl[200000])\n",
    "Energy=[20,50,80,100,120,200,250,300]\n",
    "for i in range(len(FTFP_trueEn_pkl)):\n",
    "    FTFP_trueEn=(FTFP_trueEn_pkl[i])\n",
    "    FTFP_predEn=(FTFP_preds_trueEn[i])\n",
    "    diff= FTFP_trueEn - FTFP_predEn\n",
    "    norm = diff/FTFP_trueEn\n",
    "    for ibin in range(8):\n",
    "        if(FTFP_trueEn==Energy[ibin]):\n",
    "            hist_pred_FTFP[ibin].Fill(FTFP_predEn)\n",
    "            hist_true_FTFP[ibin].Fill(FTFP_trueEn)\n",
    "            hist_predTrue_FTFP[ibin].Fill(diff)\n",
    "            hist_norm_predTrue_FTFP[ibin].Fill(norm)"
   ]
  },
  {
   "cell_type": "code",
   "execution_count": 29,
   "id": "treated-mailman",
   "metadata": {},
   "outputs": [],
   "source": [
    "fout.cd()\n",
    "for i in range(8):\n",
    "    hist_pred_Valid[i].Write()\n",
    "    hist_true_Valid[i].Write()\n",
    "    hist_pred_Train[i].Write()\n",
    "    hist_true_Train[i].Write()\n",
    "    hist_predTrue_Valid[i].Write()\n",
    "    hist_norm_predTrue_Valid[i].Write()\n",
    "    hist_predTrue_Train[i].Write()\n",
    "    hist_norm_predTrue_Train[i].Write()\n",
    "    hist_pred_Tbdata[i].Write()\n",
    "    hist_true_Tbdata[i].Write()\n",
    "    hist_predTrue_Tbdata[i].Write()\n",
    "    hist_norm_predTrue_Tbdata[i].Write()\n",
    "    hist_pred_QGSP[i].Write()\n",
    "    hist_true_QGSP[i].Write()\n",
    "    hist_pred_FTFP[i].Write()\n",
    "    hist_true_FTFP[i].Write()\n",
    "    hist_predTrue_QGSP[i].Write()\n",
    "    hist_norm_predTrue_QGSP[i].Write()\n",
    "    hist_predTrue_FTFP[i].Write()\n",
    "    hist_norm_predTrue_FTFP[i].Write()\n",
    "hist_2d.Write()\n",
    "hist_2d_tb.Write()\n",
    "\n",
    "fout.Close()"
   ]
  },
  {
   "cell_type": "code",
   "execution_count": 30,
   "id": "tested-routine",
   "metadata": {},
   "outputs": [
    {
     "data": {
      "image/png": "[encoded data removed]",
      "text/plain": [
       "<Figure size 432x288 with 1 Axes>"
      ]
     },
     "metadata": {
      "needs_background": "light"
     },
     "output_type": "display_data"
    }
   ],
   "source": [
    "temp_20=np.divide(np_valid_predEn[0],np_valid_trueEn[0])\n",
    "import matplotlib.pyplot as plt\n",
    "n, bins, patches = plt.hist(x=temp_20,bins='auto', color='#0504aa')\n",
    "                              #ha=0.7, rwidth=0.85)\n",
    "#plt.plot(np_valid_predEn[0])\n",
    "#fig, ax = plt.subplots(figsize=(20,10))\n",
    "#fig.plot(np_valid_predEn[0])\n",
    "#ax.plot(training_summary_v1['epoch'],training_summary_v1['valid_loss'], label='valid loss')\n",
    "#ax.set_xlabel('Epochs')\n",
    "#ax.set_ylabel('Loss')\n",
    "#fig.legend(loc=(0.8,0.8))\n",
    "#fig.show()\n",
    "#fig.savefig(\"DRN_semi_dscb_bestArch_With-1MStats-25Epochs.png\")"
   ]
  },
  {
   "cell_type": "code",
   "execution_count": 31,
   "id": "corrected-burlington",
   "metadata": {},
   "outputs": [
    {
     "ename": "NameError",
     "evalue": "name 'plotHist' is not defined",
     "output_type": "error",
     "traceback": [
      "\u001b[0;31m---------------------------------------------------------------------------\u001b[0m",
      "\u001b[0;31mNameError\u001b[0m                                 Traceback (most recent call last)",
      "\u001b[0;32m<ipython-input-31-e916e8735e3f>\u001b[0m in \u001b[0;36m<module>\u001b[0;34m\u001b[0m\n\u001b[1;32m      1\u001b[0m \u001b[0mfig\u001b[0m\u001b[0;34m,\u001b[0m\u001b[0maxes\u001b[0m \u001b[0;34m=\u001b[0m \u001b[0mplt\u001b[0m\u001b[0;34m.\u001b[0m\u001b[0msubplots\u001b[0m\u001b[0;34m(\u001b[0m\u001b[0mfigsize\u001b[0m\u001b[0;34m=\u001b[0m\u001b[0;34m(\u001b[0m\u001b[0;36m12\u001b[0m\u001b[0;34m,\u001b[0m \u001b[0;36m7\u001b[0m\u001b[0;34m)\u001b[0m\u001b[0;34m)\u001b[0m\u001b[0;34m;\u001b[0m\u001b[0;34m\u001b[0m\u001b[0;34m\u001b[0m\u001b[0m\n\u001b[0;32m----> 2\u001b[0;31m plotHist(axes,np_valid_predEn[0], \"Pred Energy in GeV\", \"\",\\\n\u001b[0m\u001b[1;32m      3\u001b[0m          \"\", Nbins = 100, xlog=False, ylog=False)\n\u001b[1;32m      4\u001b[0m \u001b[0mfig\u001b[0m\u001b[0;34m.\u001b[0m\u001b[0mshow\u001b[0m\u001b[0;34m(\u001b[0m\u001b[0;34m)\u001b[0m\u001b[0;34m\u001b[0m\u001b[0;34m\u001b[0m\u001b[0m\n",
      "\u001b[0;31mNameError\u001b[0m: name 'plotHist' is not defined"
     ]
    },
    {
     "data": {
      "image/png": "[encoded data removed]",
      "text/plain": [
       "<Figure size 864x504 with 1 Axes>"
      ]
     },
     "metadata": {
      "needs_background": "light"
     },
     "output_type": "display_data"
    }
   ],
   "source": [
    "fig,axes = plt.subplots(figsize=(12, 7));\n",
    "plotHist(axes,np_valid_predEn[0], \"Pred Energy in GeV\", \"\",\\\n",
    "         \"\", Nbins = 100, xlog=False, ylog=False)\n",
    "fig.show()"
   ]
  },
  {
   "cell_type": "code",
   "execution_count": null,
   "id": "alive-scratch",
   "metadata": {},
   "outputs": [],
   "source": [
    "Training_File = \"/eos/user/k/kalpana/SWAN_projects/GNN_Results/FlatEnegrySample_1M/Nosemi/model_checkpoint_DynamicReductionNetwork_264709_3b812971e1_asirohi.best.pth.tar\""
   ]
  },
  {
   "cell_type": "code",
   "execution_count": null,
   "id": "6292ca27",
   "metadata": {},
   "outputs": [],
   "source": []
  }
 ],
 "metadata": {
  "kernelspec": {
   "display_name": "Python 3",
   "language": "python",
   "name": "python3"
  },
  "language_info": {
   "codemirror_mode": {
    "name": "ipython",
    "version": 3
   },
   "file_extension": ".py",
   "mimetype": "text/x-python",
   "name": "python",
   "nbconvert_exporter": "python",
   "pygments_lexer": "ipython3",
   "version": "3.8.6"
  }
 },
 "nbformat": 4,
 "nbformat_minor": 5
}
