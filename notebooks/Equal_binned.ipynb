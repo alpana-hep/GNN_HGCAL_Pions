{
 "cells": [
  {
   "cell_type": "code",
   "execution_count": 1,
   "id": "d150a9c9",
   "metadata": {},
   "outputs": [
    {
     "name": "stderr",
     "output_type": "stream",
     "text": [
      "/cvmfs/sft.cern.ch/lcg/views/LCG_100/x86_64-centos7-gcc8-opt/lib/python3.8/site-packages/statsmodels/tools/_testing.py:19: FutureWarning: pandas.util.testing is deprecated. Use the functions in the public API at pandas.testing instead.\n",
      "  import pandas.util.testing as tm\n"
     ]
    },
    {
     "name": "stdout",
     "output_type": "stream",
     "text": [
      "<_io.BufferedReader name='/eos/user/k/kalpana/SWAN_projects/GNN_Results/FlatEnegrySample_1M/Nosemi/pred.pickle'>\n",
      "349.99966\n",
      "379.5058898925781\n",
      "9.999456\n",
      "11.245401382446289\n",
      "167332\n",
      "669326\n"
     ]
    }
   ],
   "source": [
    "#import the stuff\n",
    "import pandas as pd #dataframes etc\n",
    "import matplotlib.pyplot as plt #plotting\n",
    "import pickle\n",
    "import numpy as np\n",
    "import os, sys\n",
    "import seaborn as sns\n",
    "import pickle\n",
    "import numpy as np\n",
    "\n",
    "\n",
    "\n",
    "pred_v2 =\"/eos/user/k/kalpana/SWAN_projects/GNN_Results/FlatEnegrySample_1M/Nosemi/pred.pickle\"\n",
    "predPickle = open(pred_v2, \"rb\")\n",
    "print(predPickle)\n",
    "preds_trueEn = np.asarray(pickle.load(predPickle))\n",
    "#print(preds[0])\n",
    "import awkward\n",
    "trueEn= \"/eos/user/k/kalpana/SWAN_projects/GNN_Results/FlatEnegrySample_1M/Nosemi/trueE.pickle\"\n",
    "trueEnPickle = open(trueEn,\"rb\")\n",
    "trueEn_pkl = np.asarray(pickle.load(trueEnPickle))\n",
    "#fig, ax = plt.subplots(figsize=(15,10))\n",
    "#ax.hist(preds_trueEn, bins =1000)\n",
    "#ax.set_xlabel('Predicted Energy')\n",
    "#fig.show()\n",
    "#print(trueEn_pkl[0])\n",
    "print(np.max(trueEn_pkl))\n",
    "print(np.max(preds_trueEn))\n",
    "print(np.min(trueEn_pkl))\n",
    "print(np.min(preds_trueEn))\n",
    "#plt.hist2d(preds_trueEn, trueEn_pkl)\n",
    "valid_idx_file=\"/eos/user/k/kalpana/SWAN_projects/GNN_Results/FlatEnegrySample_1M/Nosemi/all_valididx.pickle\"\n",
    "train_idx_file=\"/eos/user/k/kalpana/SWAN_projects/GNN_Results/FlatEnegrySample_1M/Nosemi/all_trainidx.pickle\"\n",
    "\n",
    "valid_idx_f = open(valid_idx_file,\"rb\")\n",
    "valid_idx = np.asarray(pickle.load(valid_idx_f))\n",
    "print(len(valid_idx))\n",
    "\n",
    "train_idx_f = open(train_idx_file,\"rb\")\n",
    "train_idx = np.asarray(pickle.load(train_idx_f))\n",
    "print(len(train_idx))"
   ]
  },
  {
   "cell_type": "code",
   "execution_count": 2,
   "id": "84c17deb",
   "metadata": {},
   "outputs": [
    {
     "name": "stdout",
     "output_type": "stream",
     "text": [
      "[ 10  14  18  22  26  30  34  38  42  46  50  54  58  62  66  70  74  78\n",
      "  82  86  90  94  98 102 106 110 114 118 122 126 130 134 138 142 146 150\n",
      " 154 158 162 166 170 174 178 182 186 190 194 198 202 206 210 214 218 222\n",
      " 226 230 234 238 242 246 250 254 258 262 266 270 274 278 282 286 290 294\n",
      " 298 302 306 310 314 318 322 326 330 334 338 342 346]\n",
      "85\n"
     ]
    }
   ],
   "source": [
    "bin_range = np.arange(10,350,4)\n",
    "print(bin_range)\n",
    "print(len(bin_range))"
   ]
  },
  {
   "cell_type": "code",
   "execution_count": 22,
   "id": "5038f21e",
   "metadata": {},
   "outputs": [],
   "source": [
    "valid_predEn_all=[]\n",
    "valid_trueEn_all=[]\n",
    "for ibin in range(len(bin_range)):\n",
    "    #print(ibin)\n",
    "    if(ibin==0):\n",
    "        bin_range[0]=9.0\n",
    "    #print(ibin, bin_range[ibin])\n",
    "for i in range(len(valid_idx)):\n",
    "    valid_trueEn=(trueEn_pkl[valid_idx[i]])\n",
    "    valid_predEn=(preds_trueEn[valid_idx[i]])\n",
    "    trueEn=np.empty(85,dtype='float')\n",
    "    predEn=np.empty(85,dtype='float')\n",
    "    for ibin in range(len(bin_range)):\n",
    "        if(ibin==0):\n",
    "            inext=5\n",
    "        else:\n",
    "            inext=4\n",
    "        #f(ibin<len(bin_range)):\n",
    "        if(valid_trueEn>=bin_range[ibin] and valid_trueEn <=bin_range[ibin]+inext):\n",
    "            #print(bin_range[ibin],bin_range[ibin+1])\n",
    "            diff= valid_trueEn - valid_predEn\n",
    "            norm = diff/valid_trueEn\n",
    "            hist_pred_Valid[ibin].Fill(valid_predEn)\n",
    "            hist_true_Valid[ibin].Fill(valid_trueEn)\n",
    "            hist_predTrue_Valid[ibin].Fill(diff)\n",
    "            hist_norm_predTrue_Valid[ibin].Fill(norm)\n",
    "            "
   ]
  },
  {
   "cell_type": "code",
   "execution_count": 23,
   "id": "faff4910",
   "metadata": {},
   "outputs": [],
   "source": [
    "train_predEn_all=[]\n",
    "train_trueEn_all=[]\n",
    "for ibin in range(len(bin_range)):\n",
    "    #print(ibin)\n",
    "    if(ibin==0):\n",
    "        bin_range[0]=9.0\n",
    "    #print(ibin, bin_range[ibin])\n",
    "for i in range(len(train_idx)):\n",
    "    train_trueEn=(trueEn_pkl[train_idx[i]])\n",
    "    train_predEn=(preds_trueEn[train_idx[i]])\n",
    "    trueEn=np.empty(85,dtype='float')\n",
    "    predEn=np.empty(85,dtype='float')\n",
    "    for ibin in range(len(bin_range)):\n",
    "        if(ibin==0):\n",
    "            inext=5\n",
    "        else:\n",
    "            inext=4\n",
    "        #if(ibin<len(bin_range)):\n",
    "        if(train_trueEn>=bin_range[ibin] and train_trueEn <=bin_range[ibin]+inext):\n",
    "            diff= train_trueEn - train_predEn\n",
    "            norm = diff/train_trueEn\n",
    "            hist_pred_Train[ibin].Fill(train_predEn)\n",
    "            hist_true_Train[ibin].Fill(train_trueEn)\n",
    "            hist_predTrue_Train[ibin].Fill(diff)\n",
    "            hist_norm_predTrue_Train[ibin].Fill(norm)\n",
    "            "
   ]
  },
  {
   "cell_type": "code",
   "execution_count": 19,
   "id": "9a2120e6",
   "metadata": {},
   "outputs": [
    {
     "name": "stdout",
     "output_type": "stream",
     "text": [
      "167332\n"
     ]
    }
   ],
   "source": [
    "print(len(np_valid_trueEn_all[1]))"
   ]
  },
  {
   "cell_type": "code",
   "execution_count": null,
   "id": "de73d60a",
   "metadata": {},
   "outputs": [],
   "source": []
  },
  {
   "cell_type": "code",
   "execution_count": 20,
   "id": "8510e5bf",
   "metadata": {},
   "outputs": [],
   "source": [
    "import ROOT\n",
    "fout= ROOT.TFile(\"hist_DRn_noSemi_1Mstats_25epochs_FullBinned.root\", 'RECREATE')"
   ]
  },
  {
   "cell_type": "code",
   "execution_count": 21,
   "id": "fa446b88",
   "metadata": {},
   "outputs": [],
   "source": [
    "import ROOT\n",
    "hist_pred_Valid=[]\n",
    "hist_true_Valid=[]\n",
    "hist_pred_Train=[]\n",
    "hist_true_Train=[]\n",
    "hist_predTrue_Valid=[]\n",
    "hist_norm_predTrue_Valid=[]\n",
    "hist_predTrue_Train=[]\n",
    "hist_norm_predTrue_Train=[]\n",
    "hist_pred_Tbdata=[]\n",
    "hist_true_Tbdata=[]\n",
    "hist_predTrue_Tbdata=[]\n",
    "hist_norm_predTrue_Tbdata=[]\n",
    "Energy=[20,50,80,100,120,200,250,300]\n",
    "M=85 # number of histograms\n",
    "for i_hist in range(M):\n",
    "    xhigh_pred= 3.0*bin_range[i_hist]\n",
    "    xhigh_true= 2.0*bin_range[i_hist]\n",
    "    xhigh_diff= 20\n",
    "    xlow_diff= -20\n",
    "    xhigh_norm= 5\n",
    "    xlow_norm= -5\n",
    "    \n",
    "    name1='TrueEn_%i_to_%i' %(bin_range[i_hist],bin_range[i_hist]+4)#,u[i_hist],v[i_hist],typee[i_hist])\n",
    "    hist_pred_Valid.append(ROOT.TH1F('Valid_Predi_%s' % name1, \"\"\":\"Predicted energy in GeV\":\"\"\", 500, 0, xhigh_pred))\n",
    "    hist_true_Valid.append(ROOT.TH1F('Valid_trueEn_%s' % name1, \"\"\":\"true Beam energy in GeV\":\"\"\", 500, 0,xhigh_true ))\n",
    "    hist_pred_Train.append(ROOT.TH1F('Train_Predi_%s' % name1, \"\"\":\"Predicted energy in GeV\":\"\"\", 500, 0, xhigh_pred))\n",
    "    hist_true_Train.append(ROOT.TH1F('Train_trueEn_%s' % name1, \"\"\":\"true Beam energy in GeV\":\"\"\", 500, 0, xhigh_true))\n",
    "    hist_predTrue_Valid.append(ROOT.TH1F('Valid_Diff_Predi_%s' % name1, \"\"\":\"Predicted -true in GeV\":\"\"\", 500, xlow_diff, xhigh_diff))\n",
    "    hist_norm_predTrue_Valid.append(ROOT.TH1F('Valid_norm_pred_trueEn_%s' % name1, \"\"\":\"(pred-true)/true in GeV\":\"\"\", 500, xlow_norm, xhigh_norm))\n",
    "    hist_predTrue_Train.append(ROOT.TH1F('Train_Diff_Predi_%s' % name1, \"\"\":\"Predicted -true in GeV\":\"\"\", 500, xlow_diff, xhigh_diff))\n",
    "    hist_norm_predTrue_Train.append(ROOT.TH1F('Train_norm_pred_trueEn_%s' % name1, \"\"\":\"(pred-true)/true in GeV\":\"\"\", 500, xlow_norm, xhigh_norm))\n",
    "\n",
    "M=8\n",
    "for i_hist in range(8):\n",
    "    xhigh_pred= 3.0*Energy[i_hist]\n",
    "    xhigh_true= 2.0*Energy[i_hist]\n",
    "    xhigh_diff= 20\n",
    "    xlow_diff= -20\n",
    "    xhigh_norm= 5\n",
    "    xlow_norm= -5\n",
    "    name='TrueEn_%i' %(Energy[i_hist])\n",
    "    hist_pred_Tbdata.append(ROOT.TH1F('Tbdata_Predi_%s' % name, \"\"\":\"Predicted energy in GeV\":\"\"\", 500, 0,xhigh_pred ))\n",
    "    hist_true_Tbdata.append(ROOT.TH1F('Tbdata_trueEn_%s' % name, \"\"\":\"true Beam energy in GeV\":\"\"\", 500, 0, xhigh_true))\n",
    "    hist_predTrue_Tbdata.append(ROOT.TH1F('Tbdata_Diff_Predi_%s' % name, \"\"\":\"Predicted -true in GeV\":\"\"\", 500, xlow_diff, xhigh_diff))\n",
    "    hist_norm_predTrue_Tbdata.append(ROOT.TH1F('Tbdata_norm_pred_trueEn_%s' % name, \"\"\":\"(pred-true)/true in GeV\":\"\"\", 500,xlow_norm, xhigh_norm ))"
   ]
  },
  {
   "cell_type": "code",
   "execution_count": 11,
   "id": "52edf7a6",
   "metadata": {},
   "outputs": [
    {
     "name": "stderr",
     "output_type": "stream",
     "text": [
      "<ipython-input-11-25b5479ab0b6>:4: RuntimeWarning: invalid value encountered in double_scalars\n",
      "  norm = diff/np_valid_trueEn_all[i_en][i_ev]\n",
      "<ipython-input-11-25b5479ab0b6>:4: RuntimeWarning: divide by zero encountered in double_scalars\n",
      "  norm = diff/np_valid_trueEn_all[i_en][i_ev]\n",
      "<ipython-input-11-25b5479ab0b6>:12: RuntimeWarning: divide by zero encountered in double_scalars\n",
      "  norm = diff/np_train_trueEn_all[i_en][i_ev]\n",
      "<ipython-input-11-25b5479ab0b6>:12: RuntimeWarning: invalid value encountered in double_scalars\n",
      "  norm = diff/np_train_trueEn_all[i_en][i_ev]\n",
      "<ipython-input-11-25b5479ab0b6>:12: RuntimeWarning: overflow encountered in double_scalars\n",
      "  norm = diff/np_train_trueEn_all[i_en][i_ev]\n",
      "<ipython-input-11-25b5479ab0b6>:4: RuntimeWarning: overflow encountered in double_scalars\n",
      "  norm = diff/np_valid_trueEn_all[i_en][i_ev]\n",
      "<ipython-input-11-25b5479ab0b6>:3: RuntimeWarning: invalid value encountered in double_scalars\n",
      "  diff= np_valid_trueEn_all[i_en][i_ev] - np_valid_predEn_all[i_en][i_ev]\n"
     ]
    }
   ],
   "source": [
    "for i_en in range(len(bin_range)):\n",
    "    for i_ev in range(len(np_valid_predEn_all[i_en])):\n",
    "        diff= np_valid_trueEn_all[i_en][i_ev] - np_valid_predEn_all[i_en][i_ev]\n",
    "        norm = diff/np_valid_trueEn_all[i_en][i_ev]\n",
    "        hist_pred_Valid[i_en].Fill(np_valid_predEn_all[i_en][i_ev])\n",
    "        hist_true_Valid[i_en].Fill(np_valid_trueEn_all[i_en][i_ev])\n",
    "        hist_predTrue_Valid[i_en].Fill(diff)\n",
    "        hist_norm_predTrue_Valid[i_en].Fill(norm)\n",
    "        \n",
    "    for i_ev in range(len(np_train_predEn_all[i_en])):\n",
    "        diff= np_train_trueEn_all[i_en][i_ev] - np_train_predEn_all[i_en][i_ev]\n",
    "        norm = diff/np_train_trueEn_all[i_en][i_ev]\n",
    "        hist_pred_Train[i_en].Fill(np_train_predEn_all[i_en][i_ev])\n",
    "        hist_true_Train[i_en].Fill(np_train_trueEn_all[i_en][i_ev])\n",
    "        hist_predTrue_Train[i_en].Fill(diff)\n",
    "        hist_norm_predTrue_Train[i_en].Fill(norm)"
   ]
  },
  {
   "cell_type": "code",
   "execution_count": 24,
   "id": "3d8b1369",
   "metadata": {},
   "outputs": [],
   "source": [
    "fout.cd()\n",
    "for i in range(85):\n",
    "    hist_pred_Valid[i].Write()\n",
    "    hist_true_Valid[i].Write()\n",
    "    hist_pred_Train[i].Write()\n",
    "    hist_true_Train[i].Write()\n",
    "    hist_predTrue_Valid[i].Write()\n",
    "    hist_norm_predTrue_Valid[i].Write()\n",
    "    hist_predTrue_Train[i].Write()\n",
    "    hist_norm_predTrue_Train[i].Write()\n",
    "fout.Close()"
   ]
  },
  {
   "cell_type": "code",
   "execution_count": null,
   "id": "ab482370",
   "metadata": {},
   "outputs": [],
   "source": []
  }
 ],
 "metadata": {
  "kernelspec": {
   "display_name": "Python 3",
   "language": "python",
   "name": "python3"
  },
  "language_info": {
   "codemirror_mode": {
    "name": "ipython",
    "version": 3
   },
   "file_extension": ".py",
   "mimetype": "text/x-python",
   "name": "python",
   "nbconvert_exporter": "python",
   "pygments_lexer": "ipython3",
   "version": "3.8.6"
  }
 },
 "nbformat": 4,
 "nbformat_minor": 5
}
